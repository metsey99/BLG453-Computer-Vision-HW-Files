{
  "nbformat": 4,
  "nbformat_minor": 0,
  "metadata": {
    "colab": {
      "name": "VisionHW1.ipynb",
      "provenance": [],
      "collapsed_sections": [],
      "toc_visible": true
    },
    "kernelspec": {
      "name": "python3",
      "display_name": "Python 3"
    }
  },
  "cells": [
    {
      "cell_type": "markdown",
      "metadata": {
        "id": "XPTiPWCisIvu"
      },
      "source": [
        "#Computer Vision Assignmnet 1\n",
        "Student Name: Metehan Seyran <br />\n",
        "Student ID: 150170903 <br /><br />\n",
        "\n",
        "The directory hierarcy:\n",
        "\n",
        "- 1\n",
        "  - cat\n",
        "    - Cat Pictures\n",
        "  - Malibu.jpg\n",
        "  - selfcontrol_part.wav\n",
        "\n"
      ]
    },
    {
      "cell_type": "code",
      "metadata": {
        "id": "gPT239o9FsZq"
      },
      "source": [
        "import numpy as np\n",
        "import os\n",
        "import cv2\n",
        "import moviepy.editor as mpy\n",
        "from google.colab.patches import cv2_imshow"
      ],
      "execution_count": null,
      "outputs": []
    },
    {
      "cell_type": "code",
      "metadata": {
        "id": "GrxT_osBHCMu",
        "outputId": "5d08a242-2aee-4bb5-e276-b65648e932de",
        "colab": {
          "base_uri": "https://localhost:8080/"
        }
      },
      "source": [
        "background = cv2.imread('1/Malibu.jpg')\n",
        "bgHeight = background.shape[0]\n",
        "bgWidth = background.shape[1]\n",
        "ratio = 360/bgHeight\n",
        "\n",
        "background = cv2.resize(background, (int(bgWidth * ratio), 360))\n",
        "print(background.shape)"
      ],
      "execution_count": 3,
      "outputs": [
        {
          "output_type": "stream",
          "text": [
            "(360, 926, 3)\n"
          ],
          "name": "stdout"
        }
      ]
    },
    {
      "cell_type": "code",
      "metadata": {
        "id": "R3cm91kUJHuX"
      },
      "source": [
        "def getItem(filename):\n",
        "  ## Return index inside filename to sort according to numerical index\n",
        "  _, index = filename.split('_')\n",
        "  index, _ = index.split('.')\n",
        "  return int(index)\n",
        "\n",
        "sortedImages = sorted(os.listdir(mainDir), key=getItem)"
      ],
      "execution_count": 6,
      "outputs": []
    },
    {
      "cell_type": "markdown",
      "metadata": {
        "id": "64cIHOqAVRH6"
      },
      "source": [
        "##Part 1: Dancing alone"
      ]
    },
    {
      "cell_type": "code",
      "metadata": {
        "id": "t8NEDTawLodr"
      },
      "source": [
        "def modifyPartyCats(image):\n",
        "  ## Combine the background image with the green screened cat images\n",
        "  image_g_channel = image[:,:,1]\n",
        "  image_r_channel = image[:,:,0]\n",
        "  foreground = np.logical_or(image_g_channel < 180, image_r_channel > 150)\n",
        "\n",
        "  nonzero_x, nonzero_y = np.nonzero(foreground)\n",
        "\n",
        "  nonzero_cat_values = image[nonzero_x, nonzero_y, :]\n",
        "\n",
        "  new_frame = background.copy()\n",
        "\n",
        "  new_frame[nonzero_x, nonzero_y, :] = nonzero_cat_values\n",
        "\n",
        "  new_frame = new_frame[:, :, [2,1,0]]\n",
        "  return new_frame\n",
        "\n",
        "def prepareVideo(images_list, part_name=\"1\"):\n",
        "  ## Using image list, create the video file with specified name\n",
        "  clip = mpy.ImageSequenceClip(images_list, fps = 25)\n",
        "  audio = mpy.AudioFileClip('./1/selfcontrol_part.wav').set_duration(clip.duration)\n",
        "  clip = clip.set_audio(audio)\n",
        "  clip.write_videofile(\"part\"+part_name+\"_video.mp4\", codec='libx264')"
      ],
      "execution_count": 7,
      "outputs": []
    },
    {
      "cell_type": "code",
      "metadata": {
        "id": "6PVetxUpLr5F",
        "outputId": "27cd0824-9941-41da-bc3e-461a6c2c35f2",
        "colab": {
          "base_uri": "https://localhost:8080/"
        }
      },
      "source": [
        "image_list = []\n",
        "\n",
        "for filename in sortedImages:\n",
        "  image = cv2.imread(mainDir+filename)\n",
        "  new_image = modifyPartyCats(image)\n",
        "  image_list.append(new_image)\n",
        "\n",
        "prepareVideo(image_list)"
      ],
      "execution_count": 8,
      "outputs": [
        {
          "output_type": "stream",
          "text": [
            "[MoviePy] >>>> Building video part1_video.mp4\n",
            "[MoviePy] Writing audio in part1_videoTEMP_MPY_wvf_snd.mp3\n"
          ],
          "name": "stdout"
        },
        {
          "output_type": "stream",
          "text": [
            "100%|██████████| 159/159 [00:00<00:00, 572.01it/s]"
          ],
          "name": "stderr"
        },
        {
          "output_type": "stream",
          "text": [
            "[MoviePy] Done.\n",
            "[MoviePy] Writing video part1_video.mp4\n"
          ],
          "name": "stdout"
        },
        {
          "output_type": "stream",
          "text": [
            "\n",
            "100%|██████████| 181/181 [00:03<00:00, 47.38it/s]\n"
          ],
          "name": "stderr"
        },
        {
          "output_type": "stream",
          "text": [
            "[MoviePy] Done.\n",
            "[MoviePy] >>>> Video ready: part1_video.mp4 \n",
            "\n"
          ],
          "name": "stdout"
        }
      ]
    },
    {
      "cell_type": "markdown",
      "metadata": {
        "id": "0EyGRyvIRMrl"
      },
      "source": [
        "##Part 2: Dancing with myself"
      ]
    },
    {
      "cell_type": "code",
      "metadata": {
        "id": "3C4AXk6FOb_W",
        "outputId": "715ea60e-884b-4d0a-9e06-312b85cf2163",
        "colab": {
          "base_uri": "https://localhost:8080/"
        }
      },
      "source": [
        "def combineTwoPartyCats(image):\n",
        "  # reduce image width to fit the background image\n",
        "  image = image[:, :463, :]\n",
        "  #flip the image horizontally\n",
        "  image2 = np.fliplr(image)\n",
        "  #combine images together horizontally\n",
        "  image = np.hstack((image,image2))\n",
        "  return image\n",
        "\n",
        "image_list_2_cats = []\n",
        "\n",
        "for filename in sortedImages:\n",
        "  #read the image as numpy array\n",
        "  image = cv2.imread(mainDir+filename)\n",
        "  #combine two cats side by side\n",
        "  image = combineTwoPartyCats(image)\n",
        "  #change greenscreen with background image\n",
        "  image = modifyPartyCats(image)\n",
        "  #append the image to list for moviepy\n",
        "  image_list_2_cats.append(image)\n",
        "\n",
        "prepareVideo(image_list_2_cats, \"2\")"
      ],
      "execution_count": 10,
      "outputs": [
        {
          "output_type": "stream",
          "text": [
            "[MoviePy] >>>> Building video part2_video.mp4\n",
            "[MoviePy] Writing audio in part2_videoTEMP_MPY_wvf_snd.mp3\n"
          ],
          "name": "stdout"
        },
        {
          "output_type": "stream",
          "text": [
            "100%|██████████| 159/159 [00:00<00:00, 598.34it/s]"
          ],
          "name": "stderr"
        },
        {
          "output_type": "stream",
          "text": [
            "[MoviePy] Done.\n",
            "[MoviePy] Writing video part2_video.mp4\n"
          ],
          "name": "stdout"
        },
        {
          "output_type": "stream",
          "text": [
            "\n",
            "100%|██████████| 181/181 [00:04<00:00, 38.48it/s]\n"
          ],
          "name": "stderr"
        },
        {
          "output_type": "stream",
          "text": [
            "[MoviePy] Done.\n",
            "[MoviePy] >>>> Video ready: part2_video.mp4 \n",
            "\n"
          ],
          "name": "stdout"
        }
      ]
    },
    {
      "cell_type": "markdown",
      "metadata": {
        "id": "PRsT2II_WrAy"
      },
      "source": [
        "## Part 3: Dancing with my Shadow"
      ]
    },
    {
      "cell_type": "code",
      "metadata": {
        "id": "wrHVgG1HSpdh",
        "outputId": "78d24742-eb8b-4344-9ccc-c7f885f93d73",
        "colab": {
          "base_uri": "https://localhost:8080/"
        }
      },
      "source": [
        "def makeDarker(point, threshold):\n",
        "  #create a lookup with provided threshold\n",
        "  lookup = np.array([max(i-threshold, 0) for i in range(256)])\n",
        "  #make the points darker using LUT\n",
        "  point = lookup[point]\n",
        "  return point\n",
        "\n",
        "def combineCatAndShadow(image):\n",
        "  ## Combining the image of darkened cat and original cat\n",
        "  image = image[:,:463, :]\n",
        "  image2 = np.fliplr(image)\n",
        "  image_g_channel = image2[:,:,1]\n",
        "  image_r_channel = image2[:,:,0]\n",
        "  foreground = np.logical_or(image_g_channel < 180, image_r_channel > 150)\n",
        "\n",
        "  nonzero_x, nonzero_y = np.nonzero(foreground)\n",
        "\n",
        "  nonzero_cat_values = image2[nonzero_x, nonzero_y, :]\n",
        "  nonzero_cat_values = np.array(makeDarker(nonzero_cat_values.reshape(-1,), 100)).reshape(-1, 3)\n",
        "\n",
        "  image2Copy = image2.copy()\n",
        "  image2Copy[nonzero_x, nonzero_y, :] = nonzero_cat_values\n",
        "  image = np.hstack([image, image2Copy])\n",
        "  return image\n",
        "  \n",
        "img_list_shadow = []\n",
        "\n",
        "for filename in sortedImages:\n",
        "  image = cv2.imread(mainDir+filename)\n",
        "  cat_with_shadow = combineCatAndShadow(image)\n",
        "  modified_image = modifyPartyCats(cat_with_shadow)\n",
        "  img_list_shadow.append(modified_image)\n",
        "\n",
        "prepareVideo(img_list_shadow, \"3\")"
      ],
      "execution_count": 11,
      "outputs": [
        {
          "output_type": "stream",
          "text": [
            "[MoviePy] >>>> Building video part3_video.mp4\n",
            "[MoviePy] Writing audio in part3_videoTEMP_MPY_wvf_snd.mp3\n"
          ],
          "name": "stdout"
        },
        {
          "output_type": "stream",
          "text": [
            "100%|██████████| 159/159 [00:00<00:00, 564.59it/s]"
          ],
          "name": "stderr"
        },
        {
          "output_type": "stream",
          "text": [
            "[MoviePy] Done.\n",
            "[MoviePy] Writing video part3_video.mp4\n"
          ],
          "name": "stdout"
        },
        {
          "output_type": "stream",
          "text": [
            "\n",
            "100%|██████████| 181/181 [00:04<00:00, 39.02it/s]\n"
          ],
          "name": "stderr"
        },
        {
          "output_type": "stream",
          "text": [
            "[MoviePy] Done.\n",
            "[MoviePy] >>>> Video ready: part3_video.mp4 \n",
            "\n"
          ],
          "name": "stdout"
        }
      ]
    },
    {
      "cell_type": "markdown",
      "metadata": {
        "id": "MV4s6q9y8fLy"
      },
      "source": [
        "##Part 3: Dancing with my friend"
      ]
    },
    {
      "cell_type": "code",
      "metadata": {
        "id": "mrGn5bygX0cR"
      },
      "source": [
        "#number of cat images\n",
        "m = len(sortedImages)\n",
        "#array for average histogram\n",
        "hist = np.zeros((256, 3))\n",
        "\n",
        "def getCatPixels(image):\n",
        "  #Returns the pixels belonging to cat for given image\n",
        "  image_g_channel = image[:,:,1]\n",
        "  image_r_channel = image[:,:,0]\n",
        "  foreground = np.logical_or(image_g_channel < 180, image_r_channel > 150)\n",
        "\n",
        "  nonzero_x, nonzero_y = np.nonzero(foreground)\n",
        "\n",
        "  nonzero_cat_values = image[nonzero_x, nonzero_y, :]\n",
        "  return nonzero_cat_values, nonzero_x, nonzero_y\n",
        "\n",
        "def calculateHistogram(values):\n",
        "  ## calculating the histogram by using the values of pixels provided.\n",
        "  hist = np.zeros([256, 3])\n",
        "\n",
        "  for g in range(256):\n",
        "    hist[g, ...] += np.sum((values == g)*1.0, 0)\n",
        "  \n",
        "  return hist\n",
        "\n",
        "for filename in sortedImages:\n",
        "  image = cv2.imread(mainDir+filename)\n",
        "  catPixels, _, _ = getCatPixels(image)\n",
        "  hist += calculateHistogram(catPixels)\n",
        "  print(filename+\" done...\")\n",
        "\n",
        "#averaging the histogram counts\n",
        "hist = hist//m\n",
        "#calculate the target (background) image's histogram\n",
        "target_hist = calculateHistogram(background.reshape(-1, 3))"
      ],
      "execution_count": null,
      "outputs": []
    },
    {
      "cell_type": "code",
      "metadata": {
        "id": "hPcQtjXbEpMW"
      },
      "source": [
        "#Computing CDFs\n",
        "target_cum = np.cumsum(target_hist, axis=0)\n",
        "target_cdf = target_cum/np.max(target_cum)\n",
        "\n",
        "source_cum = np.cumsum(hist, axis=0)\n",
        "source_cdf = source_cum/np.max(source_cum)"
      ],
      "execution_count": 13,
      "outputs": []
    },
    {
      "cell_type": "code",
      "metadata": {
        "id": "nlesdnwpCVzx"
      },
      "source": [
        "def HistogramUsingLookUp(target, source):\n",
        "  ## Calculate the LookUp Table using target and source CDFs.\n",
        "  ## The function is for 3 channel images.\n",
        "  LUT = np.zeros((256, 3))\n",
        "  for i in range(3):\n",
        "    gJ = 0\n",
        "    for gI in range(256):\n",
        "      while source[gI, i] > target[gJ, i] and gJ < 255:\n",
        "        gJ += 1\n",
        "      LUT[gI, i] = gJ\n",
        "  return LUT      \n",
        "\n",
        "LookUpTable = HistogramUsingLookUp(target_cdf, source_cdf)"
      ],
      "execution_count": 14,
      "outputs": []
    },
    {
      "cell_type": "code",
      "metadata": {
        "id": "hQQAxQhlGVb8",
        "outputId": "4952bc7f-6ecf-4adf-8565-838c70443d8f",
        "colab": {
          "base_uri": "https://localhost:8080/"
        }
      },
      "source": [
        "def combineCatAndFriend(image):\n",
        "  ## Combining the histogram matched cat with the original cat.\n",
        "  image = image[:,:463, :]\n",
        "  image2 = np.fliplr(image)\n",
        "  image_g_channel = image2[:,:,1]\n",
        "  image_r_channel = image2[:,:,0]\n",
        "  foreground = np.logical_or(image_g_channel < 180, image_r_channel > 150)\n",
        "\n",
        "  nonzero_x, nonzero_y = np.nonzero(foreground)\n",
        "\n",
        "  nonzero_cat_values = image2[nonzero_x, nonzero_y, :]\n",
        "  R = LookUpTable[nonzero_cat_values[:, 0], 0].reshape(-1, 1)\n",
        "  G = LookUpTable[nonzero_cat_values[:, 1], 1].reshape(-1, 1)\n",
        "  B = LookUpTable[nonzero_cat_values[:, 2], 2].reshape(-1, 1)\n",
        "  newCatPixels = np.hstack([R, G, B])\n",
        "\n",
        "  image2Copy = image2.copy()\n",
        "  image2Copy[nonzero_x, nonzero_y, :] = newCatPixels\n",
        "  image = np.hstack([image, image2Copy])\n",
        "  return image\n",
        "\n",
        "image_list_with_friend = []\n",
        "for filename in sortedImages:\n",
        "  image = cv2.imread(mainDir+filename)\n",
        "  new_image = combineCatAndFriend(image)\n",
        "  image = modifyPartyCats(new_image)\n",
        "  image_list_with_friend.append(image)\n",
        "\n",
        "prepareVideo(image_list_with_friend, \"3_2\")"
      ],
      "execution_count": 15,
      "outputs": [
        {
          "output_type": "stream",
          "text": [
            "[MoviePy] >>>> Building video part3_2_video.mp4\n",
            "[MoviePy] Writing audio in part3_2_videoTEMP_MPY_wvf_snd.mp3\n"
          ],
          "name": "stdout"
        },
        {
          "output_type": "stream",
          "text": [
            "100%|██████████| 159/159 [00:00<00:00, 594.36it/s]"
          ],
          "name": "stderr"
        },
        {
          "output_type": "stream",
          "text": [
            "[MoviePy] Done.\n",
            "[MoviePy] Writing video part3_2_video.mp4\n"
          ],
          "name": "stdout"
        },
        {
          "output_type": "stream",
          "text": [
            "\n",
            "100%|██████████| 181/181 [00:04<00:00, 38.76it/s]\n"
          ],
          "name": "stderr"
        },
        {
          "output_type": "stream",
          "text": [
            "[MoviePy] Done.\n",
            "[MoviePy] >>>> Video ready: part3_2_video.mp4 \n",
            "\n"
          ],
          "name": "stdout"
        }
      ]
    },
    {
      "cell_type": "markdown",
      "metadata": {
        "id": "xSJUPOvjVE50"
      },
      "source": [
        "##Part 4: Disco dancing"
      ]
    },
    {
      "cell_type": "code",
      "metadata": {
        "id": "2nwzXsPxUtR0"
      },
      "source": [
        "perturbation = np.random.rand(256, 3)\n",
        "perturbation"
      ],
      "execution_count": null,
      "outputs": []
    },
    {
      "cell_type": "code",
      "metadata": {
        "id": "VDVqjHZ2WhdW"
      },
      "source": [
        "def perturbLeftCat(image):\n",
        "  ## Perturbation and histogram matching for the left cat\n",
        "\n",
        "  #obtaining the cat pixels and calculating the histogram\n",
        "  catPixels, nonzero_x, nonzero_y = getCatPixels(image)\n",
        "  catHist = calculateHistogram(catPixels)\n",
        "  ##calculating the Cumulative Histogram and CDF\n",
        "  catHistCum = np.cumsum(catHist, axis=0)\n",
        "  catCDF = catHistCum/np.max(catHistCum)\n",
        "  ##Calculating the target image CDF (target is perturbed histogram of the cat)\n",
        "  targetHist = perturbation * catHist\n",
        "  targetHistCum = np.cumsum(targetHist, axis=0)\n",
        "  targetCDF = targetHistCum/np.max(targetHistCum)\n",
        "  ##create a lookup table\n",
        "  LUT = HistogramUsingLookUp(targetCDF, catCDF)\n",
        "  ##process the new image\n",
        "  new_image = image.copy()\n",
        "  R = LUT[catPixels[:, 0], 0].reshape(-1, 1)\n",
        "  G = LUT[catPixels[:, 1], 1].reshape(-1, 1)\n",
        "  B = LUT[catPixels[:, 2], 2].reshape(-1, 1)\n",
        "  new_image[nonzero_x, nonzero_y, :] = np.hstack([R, G, B])\n",
        "\n",
        "  return new_image\n",
        "\n",
        "def perturbRightCat(image):\n",
        "  ## Perturbation and histogram matcing for the right cat\n",
        "  catPixels, nonzero_x, nonzero_y = getCatPixels(image)\n",
        "  catHist = calculateHistogram(catPixels)\n",
        "  ##calculating the Cumulative Histogram and CDF\n",
        "  catHistCum = np.cumsum(catHist, axis=0)\n",
        "  catCDF = catHistCum/np.max(catHistCum)\n",
        "  ##Calculating the target image CDF (target is perturbed histogram of the background)\n",
        "  targetHist = calculateHistogram(background.reshape(-1, 3)) * perturbation\n",
        "  targetHistCum = np.cumsum(targetHist, axis=0)\n",
        "  targetCDF = targetHistCum/np.max(targetHistCum)\n",
        "  ##create a lookup table \n",
        "  LUT = HistogramUsingLookUp(targetCDF, catCDF)\n",
        "  ##process the new image\n",
        "  new_image = image.copy()\n",
        "  R = LUT[catPixels[:, 0], 0].reshape(-1, 1)\n",
        "  G = LUT[catPixels[:, 1], 1].reshape(-1, 1)\n",
        "  B = LUT[catPixels[:, 2], 2].reshape(-1, 1)\n",
        "  new_image[nonzero_x, nonzero_y, :] = np.hstack([R, G, B])\n",
        "\n",
        "  return new_image\n"
      ],
      "execution_count": 17,
      "outputs": []
    },
    {
      "cell_type": "code",
      "metadata": {
        "id": "XJsWHYyFZ7dw"
      },
      "source": [
        "def combineColorfulCats(image):\n",
        "  ## Combining new left and right cats.\n",
        "  image = image = image[:,:463, :]\n",
        "  image2 = np.fliplr(image)\n",
        "\n",
        "  leftCat = perturbLeftCat(image)\n",
        "  rightCat = perturbRightCat(image2)\n",
        "\n",
        "  result = np.hstack([leftCat, rightCat])\n",
        "  final_image = modifyPartyCats(result)\n",
        "\n",
        "  return final_image\n",
        "\n",
        "image_list_colorful_cats = []\n",
        "\n",
        "for filename in sortedImages:\n",
        "  image = cv2.imread(mainDir+filename)\n",
        "  new_image = combineColorfulCats(image)\n",
        "  image_list_colorful_cats.append(new_image)\n",
        "  print(filename+\" done...\")\n",
        "  \n",
        "prepareVideo(image_list_colorful_cats, \"4\")"
      ],
      "execution_count": null,
      "outputs": []
    },
    {
      "cell_type": "code",
      "metadata": {
        "id": "_Et2Q0VYc-rQ"
      },
      "source": [
        ""
      ],
      "execution_count": null,
      "outputs": []
    }
  ]
}