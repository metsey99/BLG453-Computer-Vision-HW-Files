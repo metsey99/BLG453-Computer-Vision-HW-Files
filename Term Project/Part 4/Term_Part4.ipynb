{
  "nbformat": 4,
  "nbformat_minor": 0,
  "metadata": {
    "colab": {
      "name": "Term_Part4.ipynb",
      "provenance": [],
      "collapsed_sections": [],
      "toc_visible": true
    },
    "kernelspec": {
      "name": "python3",
      "display_name": "Python 3"
    }
  },
  "cells": [
    {
      "cell_type": "markdown",
      "metadata": {
        "id": "Gz5k3S22sPFg"
      },
      "source": [
        "#BLG453 Computer Vision Term Project 4\n",
        "Metehan Seyran 150170903<br/>\n",
        "Ugur Ali Kaplan 150170042<br/>"
      ]
    },
    {
      "cell_type": "markdown",
      "metadata": {
        "id": "PkfZRRZngUJl"
      },
      "source": [
        "## Read Data"
      ]
    },
    {
      "cell_type": "code",
      "metadata": {
        "id": "CPj8lxhWijZJ"
      },
      "source": [
        "import nibabel as nib\n",
        "import numpy as np\n",
        "import cv2\n",
        "\n",
        "\n",
        "ground_truth = nib.load(\"V_seg.nii\")\n",
        "img = nib.load(\"V.nii\")\n",
        "data = img.get_fdata()\n",
        "gt_data = ground_truth.get_fdata()"
      ],
      "execution_count": 3,
      "outputs": []
    },
    {
      "cell_type": "markdown",
      "metadata": {
        "id": "XWiUa9TUT1-z"
      },
      "source": [
        "## Region Growing algorithm"
      ]
    },
    {
      "cell_type": "code",
      "metadata": {
        "id": "_iuGknhnhLtJ"
      },
      "source": [
        "class Queue():\n",
        "  def __init__(self):\n",
        "    self.queue = []\n",
        "  \n",
        "  def push(self, item):\n",
        "    self.queue.append(item)\n",
        "\n",
        "  def pop(self):\n",
        "    self.queue.pop(0)\n",
        "\n",
        "  def size(self):\n",
        "    return len(self.queue)\n",
        "\n",
        "  def isEmpty(self):\n",
        "    return len(self.queue) == 0\n",
        "\n",
        "  def front(self):\n",
        "    return self.queue[0]\n",
        "\n",
        "  def clear(self):\n",
        "    self.queue = []"
      ],
      "execution_count": 4,
      "outputs": []
    },
    {
      "cell_type": "code",
      "metadata": {
        "id": "xNZA8z3ihEKK"
      },
      "source": [
        "class RegionGrowing2D():\n",
        "  def __init__(self, img, neighbour, threshold, max_seed):\n",
        "    self.img = img\n",
        "    self.height = img.shape[0]\n",
        "    self.width = img.shape[1]\n",
        "    \n",
        "    if neighbour == 4:\n",
        "      self.neighbour = [[1,0], [0,1], [-1,0], [0,-1]]\n",
        "    elif neighbour == 8:\n",
        "      self.neighbour = [[1,0], [0,1], [-1,0], [0,-1], [-1, 1], [1, -1], [1,1], [-1,-1]]\n",
        "    else:\n",
        "      raise \"You can only enter 4 or 8\"\n",
        "    self.seeds = []\n",
        "    self.visited = np.zeros(self.img.shape)\n",
        "    self.queue = Queue()\n",
        "    self.threshold = threshold\n",
        "    self.max_seed = max_seed\n",
        "    self.pointMean = 0\n",
        "    self.checkedPoints = 0\n",
        "\n",
        "  def BFS(self):\n",
        "    \"\"\"\n",
        "    Traversing the points on the 3d grid by applying Breadth-first search.\n",
        "    Initially, it loops over max number of seeds, then applying BFS starting from\n",
        "    that seed point. \n",
        "    \"\"\"\n",
        "    for i in range(self.max_seed): \n",
        "\n",
        "      start_node = self.findSeedPoints()\n",
        "      \n",
        "      if start_node == []:\n",
        "        break\n",
        "      \n",
        "      self.pointMean = self.img[start_node[0], start_node[1]]\n",
        "      self.checkedPoints = 0\n",
        "\n",
        "      self.queue.push(start_node)\n",
        "      self.visited[start_node[0], start_node[1]] = 1\n",
        "      \n",
        "      while not self.queue.isEmpty():\n",
        "        \n",
        "        temp = self.queue.front()\n",
        "        self.queue.pop()\n",
        "\n",
        "        for i in range(len(self.neighbour)):\n",
        "        \n",
        "          new_node = [temp[0]+self.neighbour[i][0], temp[1]+self.neighbour[i][1]]\n",
        "        \n",
        "          if self.checkIfOut(new_node) and self.checkThreshold(temp, new_node) and not self.isVisited(new_node):\n",
        "\n",
        "            new_point = self.img[new_node[0], new_node[1]]\n",
        "            self.checkedPoints += 1\n",
        "            self.pointMean = (self.pointMean * (self.checkedPoints - 1) + new_point) / self.checkedPoints\n",
        "\n",
        "            self.queue.push(new_node)\n",
        "            self.visited[new_node[0], new_node[1]] = 1\n",
        "\n",
        "\n",
        "  def isVisited(self, new_node):\n",
        "    \"\"\"\n",
        "    Check if the new node is visited, if not return true else false.\n",
        "    \"\"\"\n",
        "    return bool(self.visited[new_node[0], new_node[1]])\n",
        "\n",
        "  def checkThreshold(self, old_node, new_node):\n",
        "    \"\"\"\n",
        "    Calculate mean of positive nodes. If new node is less than threshold,\n",
        "    return false, else true.\n",
        "    \"\"\"\n",
        "    new_point = self.img[new_node[0], new_node[1]]\n",
        "\n",
        "    return (np.abs(self.pointMean - new_point) < self.threshold)\n",
        "\n",
        "  def checkIfOut(self, new_node):\n",
        "    \"\"\"\n",
        "    Check if candidate node is not out of bounds\n",
        "    \"\"\"\n",
        "    if new_node[0] < 0 or new_node[1] < 0 or new_node[0] >= self.height or new_node[1] >= self.width:\n",
        "      return False\n",
        "    return True\n",
        "\n",
        "  def findSeedPoints(self):\n",
        "    \"\"\"\n",
        "    Choose the brightest not visited point\n",
        "    If there is a point that is less than or equal to 0.7, \n",
        "    the function returns an empty list.\n",
        "    \"\"\"\n",
        "    elements = list(np.unique(self.img))\n",
        "    elements.reverse()\n",
        "    for element in elements:\n",
        "      if element <= 0.7:\n",
        "        break\n",
        "      x, y = np.where(self.img == element)\n",
        "      if self.visited[x[0], y[0]] != 1:\n",
        "        return [x[0], y[0]]\n",
        "    return []\n",
        "\n",
        "  def calculateDiceScore(self, ground_truth):\n",
        "    \"\"\"\n",
        "    Calculate the Dice Score based in visited array and ground truth\n",
        "    \"\"\"\n",
        "    a, _ = np.nonzero(ground_truth)\n",
        "    b, _ = np.nonzero(self.visited)\n",
        "\n",
        "    bool_gt = (ground_truth == 1)\n",
        "    bool_seg = (self.visited == 1)\n",
        "\n",
        "    intersection = (np.logical_and(bool_gt, bool_seg)) * 1.0\n",
        "    c, _ = np.nonzero(intersection)\n",
        "    return 2 * (len(c))/(len(a) + len(b))"
      ],
      "execution_count": 5,
      "outputs": []
    },
    {
      "cell_type": "code",
      "metadata": {
        "id": "6VsUTUuAiq9P"
      },
      "source": [
        "class RegionGrowing3D():\n",
        "  def __init__(self, img, neighbour, threshold, max_seed):\n",
        "    self.img = img\n",
        "    self.height = img.shape[0]\n",
        "    self.width = img.shape[1]\n",
        "    self.depth = img.shape[2]\n",
        "    \n",
        "    if neighbour == 6:\n",
        "      self.neighbour = [[1, 0, 0], [0, 1, 0], [0, 0, 1], [-1, 0, 0], [0, -1, 0], [0,0,-1]]\n",
        "    elif neighbour == 26:\n",
        "      self.neighbour = [[1, 0, 0], [0, 1, 0], [0, 0, 1], [-1, 0, 0], [0, -1, 0], [0,0,-1], \n",
        "                        [1, 1, 0], [-1, -1, 0], [1, -1, 0], [-1, 1, 0], [1, 1, 1], [1, 1, -1], \n",
        "                        [-1, -1, 1], [-1, -1, -1], [1, -1, 1], [1, -1, -1], [-1, 1, 1], [-1, 1, -1],\n",
        "                        [1, 0, 1], [1, 0, -1], [0, 1, 1], [0, 1, -1],[-1, 0, 1], [-1, 0, -1], \n",
        "                        [0, -1, 1], [0, -1, -1]]\n",
        "    else:\n",
        "      raise \"You can only enter 4 or 8\"\n",
        "    self.visited = np.zeros(self.img.shape)\n",
        "    self.queue = Queue()\n",
        "    self.threshold = threshold\n",
        "    self.max_seed = max_seed\n",
        "    self.pointMean = 0\n",
        "    self.checkedPoints = 0\n",
        "\n",
        "  def BFS(self):\n",
        "    \"\"\"\n",
        "    Traversing the points on the 3d grid by applying Breadth-first search.\n",
        "    Initially, it loops over max number of seeds, then applying BFS starting from\n",
        "    that seed point. \n",
        "    \"\"\"\n",
        "    for i in range(self.max_seed): \n",
        "      start_node = self.findSeedPoints()\n",
        "      if start_node == []:\n",
        "        break\n",
        "      self.pointMean = self.img[start_node[0], start_node[1], start_node[2]]\n",
        "      self.checkedPoints = 0\n",
        "      self.queue.push(start_node)\n",
        "      self.visited[start_node[0], start_node[1], start_node[2]] = 1\n",
        "      while not self.queue.isEmpty():\n",
        "        temp = self.queue.front()\n",
        "        self.queue.pop()\n",
        "\n",
        "        for i in range(len(self.neighbour)):\n",
        "          new_node = [temp[0]+self.neighbour[i][0], temp[1]+self.neighbour[i][1], temp[2]+self.neighbour[i][2]]\n",
        "          if self.checkIfOut(new_node) and self.checkThreshold(new_node) and not self.isVisited(new_node):\n",
        "            \n",
        "            self.checkedPoints += 1\n",
        "            new_point = self.img[new_node[0], new_node[1], new_node[2]]\n",
        "            self.pointMean = (self.pointMean * (self.checkedPoints - 1) + new_point) / self.checkedPoints\n",
        "            \n",
        "            self.queue.push(new_node)\n",
        "            self.visited[new_node[0], new_node[1], new_node[2]] = 1\n",
        "\n",
        "  def isVisited(self, new_node):\n",
        "    \"\"\"\n",
        "    Check if the new node is visited, if not return true else false.\n",
        "    \"\"\"\n",
        "    return bool(self.visited[new_node[0], new_node[1], new_node[2]])\n",
        "\n",
        "  def checkThreshold(self, new_node):\n",
        "    \"\"\"\n",
        "    Calculate mean of positive nodes. If new node is less than threshold,\n",
        "    return false, else true.\n",
        "    \"\"\"\n",
        "\n",
        "    new_point = self.img[new_node[0], new_node[1], new_node[2]]\n",
        "    return (np.abs(self.pointMean - new_point) < self.threshold)\n",
        "\n",
        "  def checkIfOut(self, new_node):\n",
        "    \"\"\"\n",
        "    Check if candidate node is not out of bounds\n",
        "    \"\"\"\n",
        "\n",
        "    if new_node[0] < 0 or new_node[1] < 0 or new_node[2] < 0 or new_node[0] >= self.height or new_node[1] >= self.width or new_node[2] >= self.depth:\n",
        "      return False\n",
        "    return True\n",
        "\n",
        "  def findSeedPoints(self):\n",
        "    \"\"\"\n",
        "    Choose the brightest not visited point\n",
        "    If there is a point that is less than or equal to 0.7, \n",
        "    the function returns an empty list.\n",
        "    \"\"\"\n",
        "\n",
        "    elements = list(np.unique(self.img))\n",
        "    elements.reverse()\n",
        "    for element in elements:\n",
        "      if element <= 0.7:\n",
        "        break\n",
        "      x, y, z = np.where(self.img == element)\n",
        "      \n",
        "      if self.visited[x[0], y[0], z[0]] != 1:\n",
        "        return [x[0], y[0], z[0]]\n",
        "    return []\n",
        "\n",
        "  def calculateDiceScore(self, ground_truth):\n",
        "    \"\"\"\n",
        "    Calculate the Dice Score based in visited array and ground truth\n",
        "    \"\"\"\n",
        "    a, _, _ = np.nonzero(ground_truth)\n",
        "    b, _, _ = np.nonzero(self.visited)\n",
        "\n",
        "    bool_gt = (ground_truth == 1)\n",
        "    bool_seg = (self.visited == 1)\n",
        "\n",
        "    intersection = (np.logical_and(bool_gt, bool_seg)) * 1.0\n",
        "    c, _, _ = np.nonzero(intersection)\n",
        "    return 2 * (len(c))/(len(a) + len(b))"
      ],
      "execution_count": 6,
      "outputs": []
    },
    {
      "cell_type": "markdown",
      "metadata": {
        "id": "h5HMq0Vagbpd"
      },
      "source": [
        "## Running Region Growing segmentation"
      ]
    },
    {
      "cell_type": "markdown",
      "metadata": {
        "id": "MvmdWQnzf7zB"
      },
      "source": [
        "### Task 1\n",
        "\n",
        "*   2D segmentation using region growing algorithm.\n",
        "*   15 seed points\n",
        "*   8 neighborhood growing\n",
        "\n",
        "\n"
      ]
    },
    {
      "cell_type": "code",
      "metadata": {
        "id": "Aq7NOyEcFOMD",
        "colab": {
          "base_uri": "https://localhost:8080/"
        },
        "outputId": "1e87dea6-9b22-4fb1-c8bd-b3b1a252ad8b"
      },
      "source": [
        "avg_dice = 0.0\n",
        "slices1 = []\n",
        "for i in range(200):\n",
        "  sample = data[i].copy()\n",
        "  task1 = RegionGrowing2D(sample, neighbour=8, threshold=0.125, max_seed=15)\n",
        "  task1.BFS()\n",
        "  slices1.append(task1.visited)\n",
        "  dice = task1.calculateDiceScore(gt_data[i])\n",
        "  avg_dice += dice\n",
        "  # print(\"Slice: \", i+1, \", Dice: \",dice)\n",
        "print(\"Average Dice score for Task 1: \", (avg_dice/200))\n",
        "\n",
        "slices1 = np.array(slices1)\n",
        "ni_img1 = nib.Nifti1Image(slices1, np.eye(4))\n",
        "nib.save(ni_img1, 'task1.nii')"
      ],
      "execution_count": 7,
      "outputs": [
        {
          "output_type": "stream",
          "text": [
            "Average Dice score for Task 1:  0.8542356134270266\n"
          ],
          "name": "stdout"
        }
      ]
    },
    {
      "cell_type": "markdown",
      "metadata": {
        "id": "nX-wh7_8f6Qv"
      },
      "source": [
        "### Task 2\n",
        "\n",
        "*   2D segmentation using region growing algorithm.\n",
        "*   15 seed points\n",
        "*   4 neighborhood growing"
      ]
    },
    {
      "cell_type": "code",
      "metadata": {
        "colab": {
          "base_uri": "https://localhost:8080/"
        },
        "id": "Z8wYH7LO3hn7",
        "outputId": "e5e9915d-833e-4e30-abb8-8f1ccdeb7108"
      },
      "source": [
        "avg_dice2 = 0.0\n",
        "slices2 = []\n",
        "for i in range(200):\n",
        "  sample = data[i].copy()\n",
        "  task2 = RegionGrowing2D(sample, neighbour=4, threshold=0.13, max_seed=15)\n",
        "  task2.BFS()\n",
        "  slices2.append(task2.visited)\n",
        "  dice = task2.calculateDiceScore(gt_data[i])\n",
        "  avg_dice2 += dice\n",
        "  # print(\"Slice: \", i+1, \", Dice: \",dice)\n",
        "print(\"Average Dice score for Task 2: \", (avg_dice2/200))\n",
        "\n",
        "slices2 = np.array(slices2)\n",
        "ni_img2 = nib.Nifti1Image(slices2, np.eye(4))\n",
        "nib.save(ni_img2, 'task2.nii')"
      ],
      "execution_count": 8,
      "outputs": [
        {
          "output_type": "stream",
          "text": [
            "Average Dice score for Task 2:  0.8427722588505522\n"
          ],
          "name": "stdout"
        }
      ]
    },
    {
      "cell_type": "markdown",
      "metadata": {
        "id": "_6NtWFm8f-TM"
      },
      "source": [
        "### Task 3\n",
        "\n",
        "*   3D segmentation using region growing algorithm.\n",
        "*   5 seed points\n",
        "*   26 neighborhood growing"
      ]
    },
    {
      "cell_type": "code",
      "metadata": {
        "colab": {
          "base_uri": "https://localhost:8080/"
        },
        "id": "98EZ3InzpzkL",
        "outputId": "2045e8bd-6a70-420a-c8a3-13c1b4036a77"
      },
      "source": [
        "task3 = RegionGrowing3D(data, neighbour=26, threshold=0.3, max_seed=5)\n",
        "task3.BFS()\n",
        "dice = task3.calculateDiceScore(gt_data)\n",
        "print(\"Dice score for task 3: \", dice)\n",
        "\n",
        "prediction1 = np.array(task3.visited)\n",
        "ni_img3 = nib.Nifti1Image(prediction1, np.eye(4))\n",
        "nib.save(ni_img3, 'task3.nii')"
      ],
      "execution_count": 9,
      "outputs": [
        {
          "output_type": "stream",
          "text": [
            "Dice score for task 3:  0.8968862462838366\n"
          ],
          "name": "stdout"
        }
      ]
    },
    {
      "cell_type": "markdown",
      "metadata": {
        "id": "ENV7E-tlgARZ"
      },
      "source": [
        "### Task 4\n",
        "\n",
        "*   3D segmentation using region growing algorithm.\n",
        "*   5 seed points\n",
        "*   6 neighborhood growing"
      ]
    },
    {
      "cell_type": "code",
      "metadata": {
        "colab": {
          "base_uri": "https://localhost:8080/"
        },
        "id": "KRATmb1amdD8",
        "outputId": "920ebab7-8ef0-4735-dada-a67d9ede17db"
      },
      "source": [
        "task4 = RegionGrowing3D(data, neighbour=6, threshold=0.25, max_seed=5)\n",
        "task4.BFS()\n",
        "dice = task4.calculateDiceScore(gt_data)\n",
        "print(\"Dice score for task 4: \", dice)\n",
        "\n",
        "prediction2 = np.array(task4.visited)\n",
        "ni_img4 = nib.Nifti1Image(prediction2, np.eye(4))\n",
        "nib.save(ni_img4, 'task4.nii')"
      ],
      "execution_count": 10,
      "outputs": [
        {
          "output_type": "stream",
          "text": [
            "Dice score for task 4:  0.8805607344299436\n"
          ],
          "name": "stdout"
        }
      ]
    }
  ]
}