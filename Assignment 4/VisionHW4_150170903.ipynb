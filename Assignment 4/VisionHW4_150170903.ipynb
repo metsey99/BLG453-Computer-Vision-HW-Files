{
  "nbformat": 4,
  "nbformat_minor": 0,
  "metadata": {
    "colab": {
      "name": "VisionHW4.ipynb",
      "provenance": [],
      "collapsed_sections": [],
      "toc_visible": true
    },
    "kernelspec": {
      "name": "python3",
      "display_name": "Python 3"
    }
  },
  "cells": [
    {
      "cell_type": "markdown",
      "metadata": {
        "id": "c-dgCB4FikcF"
      },
      "source": [
        "#Computer Vision Assignment 4\n",
        "Metehan Seyran <br/>\n",
        "150170903"
      ]
    },
    {
      "cell_type": "code",
      "metadata": {
        "id": "nlv00paPe_Qt"
      },
      "source": [
        "import moviepy.video.io.VideoFileClip as mpy\n",
        "import cv2\n",
        "import numpy as np\n",
        "from scipy import signal\n",
        "import moviepy.editor as mpy_editor"
      ],
      "execution_count": 63,
      "outputs": []
    },
    {
      "cell_type": "code",
      "metadata": {
        "id": "C3HeT8HtArtG"
      },
      "source": [
        "def prepareVideo(images_list, part_name=\"1\"):\n",
        "  clip = mpy_editor.ImageSequenceClip(images_list, fps = 25)\n",
        "  clip.write_videofile(\"hw4_\"+part_name+\".mp4\", codec='libx264')"
      ],
      "execution_count": 57,
      "outputs": []
    },
    {
      "cell_type": "code",
      "metadata": {
        "id": "YC1TSlLr-2MO"
      },
      "source": [
        "def locate_hand(img):\n",
        "  img = cv2.cvtColor(img, cv2.COLOR_BGR2RGB)\n",
        "  mask = cv2.inRange(img, (0, 195, 1), (183, 255, 191)) ## Color range to mask hand\n",
        "  mask = cv2.erode(mask, np.ones((3,3), dtype=\"uint8\")) ## Getting rid of noisy points\n",
        "  mask = cv2.dilate(mask, np.ones((3,3), dtype=\"uint8\"))\n",
        "\n",
        "  x, y = np.where(mask==255)\n",
        "\n",
        "  right_hand = (x <= 400) ## Making sure it will not select a pixel from foot\n",
        "  x = x[right_hand]\n",
        "  y = y[right_hand]\n",
        "\n",
        "  return x, y"
      ],
      "execution_count": 210,
      "outputs": []
    },
    {
      "cell_type": "code",
      "metadata": {
        "id": "RwSPflym8e4-"
      },
      "source": [
        "def LucasKanadeOF(img1, img2, points, window_size=7, gauss_filter=(7,7)):\n",
        "\n",
        "  w = window_size//2\n",
        "  point_x1, point_y1 = points\n",
        "\n",
        "  ## Smoothing the images\n",
        "  img1 = cv2.GaussianBlur(img1, gauss_filter, 1)\n",
        "  img2 = cv2.GaussianBlur(img2, gauss_filter, 1)\n",
        "\n",
        "  ## Normalizing the images\n",
        "  img1 = cv2.cvtColor(img1, cv2.COLOR_BGR2GRAY) /255.\n",
        "  img2 = cv2.cvtColor(img2, cv2.COLOR_BGR2GRAY) /255.\n",
        "\n",
        "  grad_filter_x = np.array([[1,-1], [1,-1]])\n",
        "  grad_filter_y = np.array([[1, 1], [-1, -1]])\n",
        "  grad_filter_t = np.ones((2,2))\n",
        "\n",
        "  ## Calculate gradients (Ix, Iy, It)\n",
        "  grad_x = signal.convolve2d(img1, grad_filter_x, mode=\"same\")\n",
        "  grad_y = signal.convolve2d(img1, grad_filter_y, mode=\"same\")\n",
        "  grad_t = signal.convolve2d(img2, grad_filter_t, mode=\"same\") + signal.convolve2d(img1, -grad_filter_t, mode=\"same\")\n",
        "  \n",
        "  ## Crop the region of the point\n",
        "  grad_x = grad_x[point_x1-w:point_x1+w+1, point_y1-w:point_y1+w+1]\n",
        "  grad_y = grad_y[point_x1-w:point_x1+w+1, point_y1-w:point_y1+w+1]\n",
        "  grad_t = grad_t[point_x1-w:point_x1+w+1, point_y1-w:point_y1+w+1]\n",
        "\n",
        "  ATA = np.array([[np.sum(grad_x**2), np.sum(grad_x * grad_y)], [np.sum(grad_y * grad_x), np.sum(grad_y**2)]])\n",
        "  Ab = -np.array([np.sum(grad_x * grad_t), np.sum(grad_y*grad_t)])\n",
        "  A_inv = np.linalg.pinv(ATA)\n",
        "  u = np.dot(A_inv, Ab)\n",
        "\n",
        "  return (point_x1, point_y1), u"
      ],
      "execution_count": 219,
      "outputs": []
    },
    {
      "cell_type": "markdown",
      "metadata": {
        "id": "k21UtnUPgVlz"
      },
      "source": [
        "## Part 1"
      ]
    },
    {
      "cell_type": "code",
      "metadata": {
        "id": "Ygvr7kQHMkbm"
      },
      "source": [
        "biped_vid = mpy.VideoFileClip(\"./biped_1.avi\")\n",
        "frame_count = biped_vid.reader.nframes\n",
        "video_fps = biped_vid.fps\n",
        "frames = []\n",
        "for i in range(frame_count):\n",
        "  walker_frame = biped_vid.get_frame(i*1.0/video_fps)\n",
        "  frames.append(walker_frame)"
      ],
      "execution_count": 213,
      "outputs": []
    },
    {
      "cell_type": "code",
      "metadata": {
        "id": "w5v8_7vnCUHC"
      },
      "source": [
        "new_frames = []\n",
        "x, y = locate_hand(frames[0])\n",
        "x = x[-1]\n",
        "y = y[-1]\n",
        "for i in range(len(frames)-1):\n",
        "  start_point, u = LucasKanadeOF(frames[i], frames[i+1], (x, y), window_size=7)\n",
        "  x = int(x + int(u[1]))\n",
        "  y = int(y + int(u[0]))\n",
        "  new_img = frames[i].copy()\n",
        "  arrowed_img = cv2.arrowedLine(new_img, (start_point[1], start_point[0]), (int(start_point[1] + u[0]*5), int(start_point[0] + u[1]*5)), (255,255,255), 2)\n",
        "\n",
        "  new_frames.append(arrowed_img)\n",
        "\n",
        "prepareVideo(new_frames, \"1\")"
      ],
      "execution_count": null,
      "outputs": []
    },
    {
      "cell_type": "markdown",
      "metadata": {
        "id": "fRZTMgXlLemw"
      },
      "source": [
        "## Part 2"
      ]
    },
    {
      "cell_type": "code",
      "metadata": {
        "id": "0-D7SfdyPazU"
      },
      "source": [
        "biped_vid2 = mpy.VideoFileClip(\"./biped_2.avi\")\n",
        "frame_count = biped_vid2.reader.nframes\n",
        "video_fps = biped_vid2.fps\n",
        "frames2 = []\n",
        "for i in range(frame_count):\n",
        "  walker_frame = biped_vid2.get_frame(i*1.0/video_fps)\n",
        "  frames2.append(walker_frame)"
      ],
      "execution_count": 231,
      "outputs": []
    },
    {
      "cell_type": "code",
      "metadata": {
        "id": "gB8YL67WVCpQ"
      },
      "source": [
        "points = [(183, 210), (315, 308), (183, 308), (315, 210)]\n",
        "ground_truth = [[] for i in range(5)]\n",
        "new_frames2 = []\n",
        "\n",
        "x, y = locate_hand(frames2[0])\n",
        "x, y = x[-1], y[-1]\n",
        "\n",
        "for i in range(len(frames2)-1):\n",
        "\n",
        "  img_w_arrow = frames2[i].copy()\n",
        "\n",
        "  for j in range(4):\n",
        "    start_point, u = LucasKanadeOF(frames2[i], frames2[i+1], points[j], window_size=7)\n",
        "    ## clip the OF vector between [-1e3, 1e3]\n",
        "    u[0] = max(min(u[0], 1e3), -1e3)\n",
        "    u[1] = max(min(u[1], 1e3), -1e3)\n",
        "    ground_truth[j].append(u)\n",
        "    img_w_arrow = cv2.arrowedLine(img_w_arrow, (start_point[1], start_point[0]), (int(start_point[1] + u[0]), int(start_point[0] + u[1])), (3,169,244), 3)\n",
        "  \n",
        "  start_point, u = LucasKanadeOF(frames2[i], frames2[i+1], (x, y), window_size=5, gauss_filter=(7,7))\n",
        "  x = int(x + int(u[1]))\n",
        "  y = int(y + int(u[0]))\n",
        "  ground_truth[4].append(u)\n",
        "  img_w_arrow = cv2.arrowedLine(img_w_arrow, (start_point[1], start_point[0]), (int(start_point[1] + u[0]*10), int(start_point[0] + u[1]*10)), (3,169,244), 3)\n",
        "\n",
        "  new_frames2.append(img_w_arrow)\n",
        "\n",
        "prepareVideo(new_frames2, \"2\")"
      ],
      "execution_count": null,
      "outputs": []
    },
    {
      "cell_type": "markdown",
      "metadata": {
        "id": "TGO7fMrOLdJv"
      },
      "source": [
        "##Part 3"
      ]
    },
    {
      "cell_type": "code",
      "metadata": {
        "id": "HSae7fCNLcYc"
      },
      "source": [
        "biped_vid3 = mpy.VideoFileClip(\"./biped_3.avi\")\n",
        "frame_count = biped_vid3.reader.nframes\n",
        "video_fps = biped_vid3.fps\n",
        "frames3 = []\n",
        "for i in range(frame_count):\n",
        "  walker_frame = biped_vid3.get_frame(i*1.0/video_fps)\n",
        "  frames3.append(walker_frame)"
      ],
      "execution_count": null,
      "outputs": []
    },
    {
      "cell_type": "code",
      "metadata": {
        "id": "zso8SVniAVuy"
      },
      "source": [
        "points = [(183, 210), (315, 308), (183, 308), (315, 210)]\n",
        "of_vectors2 = [[] for i in range(5)]\n",
        "new_frames3 = []\n",
        "\n",
        "for i in range(len(frames3)-1):\n",
        "  \n",
        "  x5, y5 = locate_hand(frames3[i])\n",
        "  point5 = (x5[-1], y5[-1])\n",
        "\n",
        "  img_w_arrow = frames3[i].copy()\n",
        "\n",
        "  for j in range(4):\n",
        "    start_point, u = LucasKanadeOF(frames3[i], frames3[i+1], points[j], 7)\n",
        "    u[0] = max(min(u[0], 1e3), -1e3)\n",
        "    u[1] = max(min(u[1], 1e3), -1e3)\n",
        "    of_vectors2[j].append(u)\n",
        "    img_w_arrow = cv2.arrowedLine(img_w_arrow, start_point, (int(start_point[0] + u[0]), int(start_point[1] + u[1])), (255, 0, 0), 3)\n",
        "\n",
        "  start_point, u = LucasKanadeOF(frames3[i], frames3[i+1], point5, 7)\n",
        "  of_vectors2[4].append(u)\n",
        "  img_w_arrow = cv2.arrowedLine(img_w_arrow, start_point, (int(start_point[0] + u[0]*25), int(start_point[1] + u[1]*25)), (255,0,0), 3)\n",
        "\n",
        "  new_frames3.append(img_w_arrow)\n",
        "print(np.array(of_vectors2).shape)\n",
        "prepareVideo(new_frames3, \"3\")"
      ],
      "execution_count": null,
      "outputs": []
    },
    {
      "cell_type": "code",
      "metadata": {
        "colab": {
          "base_uri": "https://localhost:8080/"
        },
        "id": "7Xgl097dS-BA",
        "outputId": "571ead61-ba51-4afa-bb75-62e2b12045b5"
      },
      "source": [
        "def calculateMSE(moving_wall, ground_truth):\n",
        "  point_mse_errors = [[] for i in range(5)]\n",
        "\n",
        "  for i in range(5):\n",
        "    point_mse_errors[i].append(np.mean((np.array(moving_wall[i]) - np.array(ground_truth[i]))**2))\n",
        "\n",
        "  return point_mse_errors\n",
        "\n",
        "errors = calculateMSE(of_vectors2, ground_truth)\n",
        "\n",
        "print(\"Errors for corners of rectangular region: \", errors[:4])\n",
        "print(\"Error of the OF vector on hand: \", errors[-1][0])"
      ],
      "execution_count": 242,
      "outputs": [
        {
          "output_type": "stream",
          "text": [
            "Errors for corners of rectangular region:  [[4301.529953942566], [5252.8377964897845], [1853.9063920105161], [5152.690419572105]]\n",
            "Error of the OF vector on hand:  490.15535982335575\n"
          ],
          "name": "stdout"
        }
      ]
    },
    {
      "cell_type": "code",
      "metadata": {
        "id": "I4bnb2p8j2at"
      },
      "source": [
        ""
      ],
      "execution_count": null,
      "outputs": []
    }
  ]
}